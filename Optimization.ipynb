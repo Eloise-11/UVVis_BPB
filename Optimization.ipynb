{
 "cells": [
  {
   "cell_type": "markdown",
   "metadata": {},
   "source": [
    "### Determine equilibrium constants by optimization function\n",
    "input: \n",
    "- measured absorbance (real data)\n",
    "- epsilon of BPB (from pH 3, 3.75, 5.2; best fit)\n",
    "\n",
    "output:\n",
    "- K1 and K2 \n",
    "- molar fraction of each species "
   ]
  },
  {
   "cell_type": "code",
   "execution_count": 14,
   "metadata": {},
   "outputs": [],
   "source": [
    "import math\n",
    "import numpy as np\n",
    "import pandas as pd\n",
    "import matplotlib.pyplot as plt\n",
    "import matplotlib as mpl\n",
    "import os\n",
    "from scipy.optimize import minimize \n",
    "import statistics \n",
    "%matplotlib inline\n",
    "mpl.rcParams['figure.dpi']= 200"
   ]
  },
  {
   "cell_type": "code",
   "execution_count": 16,
   "metadata": {},
   "outputs": [],
   "source": [
    "#Import Abs data\n",
    "df=pd.read_csv(r'G:\\Shared drives\\Electrochemistry\\04.Data\\02.Processed\\01.UVVis\\20210225_rainbow_absorption\\20210304_Abs_measured_pH_4.07.txt', sep=\"\\t\", header=None)\n",
    "wavelength0=df[0].tolist()\n",
    "A0=df[1].tolist()"
   ]
  },
  {
   "cell_type": "code",
   "execution_count": 17,
   "metadata": {},
   "outputs": [],
   "source": [
    "#Import eps of BPB \n",
    "df2=pd.read_csv(r'G:\\Shared drives\\Electrochemistry\\04.Data\\01.Raw\\01.UVVIS\\20210225_rainbow_absorption\\OutputDataframe\\eps_from_pH3_3.75_5.2.txt', sep=\",\", header=None)\n",
    "#print(df2.head(5))\n",
    "eps_H2A0=df2[1].tolist()\n",
    "eps_HAm0=df2[2].tolist()\n",
    "eps_A2m0=df2[3].tolist()"
   ]
  },
  {
   "cell_type": "code",
   "execution_count": 20,
   "metadata": {},
   "outputs": [],
   "source": [
    "#take wavelength from 400nm (i=1052) to 650nm (i=2321)\n",
    "r=2321-1052\n",
    "wavelength=[]\n",
    "A=[]\n",
    "eps_H2A=[]\n",
    "eps_HAm=[]\n",
    "eps_A2m=[]\n",
    "\n",
    "for i in range(r):\n",
    "    wavelength.append(wavelength0[1052+i])\n",
    "    A.append(A0[1052+i])\n",
    "    eps_H2A.append(eps_H2A0[1052+i])\n",
    "    eps_HAm.append(eps_HAm0[1052+i])\n",
    "    eps_A2m.append(eps_A2m0[1052+i])"
   ]
  },
  {
   "cell_type": "code",
   "execution_count": 7,
   "metadata": {},
   "outputs": [],
   "source": [
    "#Objective function\n",
    "def objective(x):\n",
    "    return (A[wv]-(eps_H2A[wv]*x[0]+eps_HAm[wv]*x[1]+eps_A2m[wv]*x[2]))**2"
   ]
  },
  {
   "cell_type": "code",
   "execution_count": 8,
   "metadata": {},
   "outputs": [
    {
     "name": "stdout",
     "output_type": "stream",
     "text": [
      "[[0.06166618053211753, 0.7245144472964454, 0.213819372171437]]\n"
     ]
    }
   ],
   "source": [
    "#First guess based on pH\n",
    "#Enter pH\n",
    "pH = [4.07]\n",
    "K1_0=10**(-3)\n",
    "K2_0=10**(-4.6)\n",
    "\n",
    "def mf_calc(pH, K1_0, K2_0):\n",
    "    c_H = 10 **(-1*pH)\n",
    "    denominator = c_H**2 + c_H*K1_0 + K1_0*K2_0\n",
    "    return [c_H**2/denominator , c_H*K1_0/denominator , K1_0*K2_0/denominator]\n",
    "\n",
    "x0 = []\n",
    "for i in pH:\n",
    "    x0.append(mf_calc(i, K1_0, K2_0))\n",
    "print(x0)"
   ]
  },
  {
   "cell_type": "code",
   "execution_count": 9,
   "metadata": {},
   "outputs": [],
   "source": [
    "#Constraints and bounds of the objective function\n",
    "#bounds: +/- 20% of the initial guess\n",
    "b1=[0,0.2]\n",
    "b2=[0.5,0.9]\n",
    "b3=[0,0.4]\n",
    "bnds = [b1,b2,b3]\n",
    "\n",
    "#constraint1 x1+x2+x3=1\n",
    "def constraint1(x):\n",
    "    return x[0]+x[1]+x[2]-1\n",
    "\n",
    "#constraint2 x1+x2+x3>0\n",
    "def constraint2(x):\n",
    "    return x[0]+x[1]+x[2]\n",
    "\n",
    "con1={'type':'eq', 'fun':constraint1}\n",
    "con2={'type':'ineq', 'fun':constraint2}\n",
    "cons=[con1,con2]"
   ]
  },
  {
   "cell_type": "code",
   "execution_count": 10,
   "metadata": {},
   "outputs": [],
   "source": [
    "sol=[]\n",
    "for wv in range(len(wavelength)):\n",
    "    sol.append(minimize(objective, x0, method='SLSQP', bounds=bnds, constraints=cons))\n",
    "#print(sol[:5])"
   ]
  },
  {
   "cell_type": "code",
   "execution_count": null,
   "metadata": {},
   "outputs": [],
   "source": [
    "#Calculate A predicted for every solution x \n",
    "A_p=[]\n",
    "for i in range(len(sol)):\n",
    "    sub=[]\n",
    "    for wv in range(len(wavelength)):\n",
    "        sub.append(eps_H2A[wv]*sol[i].x[0]+eps_HAm[wv]*sol[i].x[1]+eps_A2m[wv]*sol[i].x[2])\n",
    "    A_p.append(sub)\n"
   ]
  },
  {
   "cell_type": "code",
   "execution_count": 10,
   "metadata": {},
   "outputs": [],
   "source": [
    "#Compare A measured vs A predicted to find the best solution - error method\n",
    "err=[]\n",
    "for i in range(len(sol)):\n",
    "    sub=[]\n",
    "    for wv in range(len(wavelength)):\n",
    "        sub.append((A[wv]-A_p[i][wv])**2)\n",
    "    err.append(sub)"
   ]
  },
  {
   "cell_type": "code",
   "execution_count": 23,
   "metadata": {},
   "outputs": [],
   "source": [
    "#mean of error and take the smalles one\n",
    "mean_err=[]\n",
    "for i in range(len(sol)):\n",
    "    mean_err.append(statistics.mean(err[i]))\n",
    "\n",
    "keep_err=mean_err[0]\n",
    "for i in range(len(mean_err)):\n",
    "    if (mean_err[i]<=keep_err):\n",
    "        keep_err=mean_err[i]\n",
    "        index_err=mean_err.index(keep_err)"
   ]
  },
  {
   "cell_type": "code",
   "execution_count": 26,
   "metadata": {},
   "outputs": [
    {
     "name": "stdout",
     "output_type": "stream",
     "text": [
      "0.0011476543519662022\n",
      "1080\n",
      "1.0308243314211492\n",
      "1.2124103040175698\n",
      "[0.01952537 0.63942498 0.34104965]\n",
      "[[0.06166618053211753, 0.7245144472964454, 0.213819372171437]]\n"
     ]
    }
   ],
   "source": [
    "#Results with error method\n",
    "print(keep_err)\n",
    "print(index_err)\n",
    "print(mean_ratio[index_err])\n",
    "print(std_ratio[index_err])\n",
    "print(sol[index_err].x)\n",
    "print(x0)"
   ]
  },
  {
   "cell_type": "code",
   "execution_count": null,
   "metadata": {},
   "outputs": [],
   "source": [
    "#Equilibrium constant with error method\n",
    "K1=10**(-pH[0])*sol[index_err].x[1]/sol[index_err].x[0]\n",
    "K2=10**(-pH[0])*sol[index_err].x[2]/sol[index_err].x[1]\n",
    "pKa1=-math.log10(K1)\n",
    "pKa2=-math.log10(K2)\n",
    "print(pKa1)\n",
    "print(pKa2)"
   ]
  },
  {
   "cell_type": "code",
   "execution_count": 12,
   "metadata": {},
   "outputs": [],
   "source": [
    "#Compare A measured vs A predicted by taking the ratio\n",
    "ratio=[]\n",
    "for i in range(len(sol)):\n",
    "    sub=[]\n",
    "    for wv in range(len(wavelength)):\n",
    "        sub.append(A[wv]/A_p[i][wv])\n",
    "    ratio.append(sub)"
   ]
  },
  {
   "cell_type": "code",
   "execution_count": 13,
   "metadata": {},
   "outputs": [],
   "source": [
    "#calculate mean and std of ratio \n",
    "mean_ratio =[]\n",
    "std_ratio =[]\n",
    "for i in range(len(sol)):\n",
    "    mean_ratio.append(statistics.mean(ratio[i]))\n",
    "    std_ratio.append(np.std(ratio[i]))"
   ]
  },
  {
   "cell_type": "code",
   "execution_count": 14,
   "metadata": {},
   "outputs": [],
   "source": [
    "#solution with the smallest std\n",
    "keep_ratio=std_ratio[0]\n",
    "for i in range(len(sol)):\n",
    "    if (std_ratio[i]<= keep_ratio):\n",
    "        keep_ratio=std_ratio[i]\n",
    "        index_ratio=std_ratio.index(keep_ratio)"
   ]
  },
  {
   "cell_type": "code",
   "execution_count": 27,
   "metadata": {},
   "outputs": [
    {
     "name": "stdout",
     "output_type": "stream",
     "text": [
      "0.13600393753208642\n",
      "1239\n",
      "1.063313390074601\n",
      "0.13600393753208642\n",
      "[0.04033804 0.7187778  0.24088416]\n"
     ]
    }
   ],
   "source": [
    "#Results with ratio method and smallest std \n",
    "print(keep_ratio)\n",
    "print(index_ratio)\n",
    "print(mean_ratio[index_ratio])\n",
    "print(std_ratio[index_ratio])\n",
    "print(sol[index_ratio].x)\n",
    "# print(x0)"
   ]
  },
  {
   "cell_type": "code",
   "execution_count": 16,
   "metadata": {},
   "outputs": [
    {
     "name": "stdout",
     "output_type": "stream",
     "text": [
      "2.81912014303553\n",
      "4.544786418582098\n"
     ]
    }
   ],
   "source": [
    "#Equilibrium constant with ratio method - smallest std \n",
    "K1=10**(-pH[0])*sol[index_ratio].x[1]/sol[index_ratio].x[0]\n",
    "K2=10**(-pH[0])*sol[index_ratio].x[2]/sol[index_ratio].x[1]\n",
    "pKa1=-math.log10(K1)\n",
    "pKa2=-math.log10(K2)\n",
    "print(pKa1)\n",
    "print(pKa2)"
   ]
  },
  {
   "cell_type": "code",
   "execution_count": 22,
   "metadata": {},
   "outputs": [
    {
     "name": "stdout",
     "output_type": "stream",
     "text": [
      "396\n",
      "0.9999783002280536\n",
      "0.6517320791325021\n",
      "[0.01079139 0.67985021 0.3093584 ]\n"
     ]
    }
   ],
   "source": [
    "#solution with the mean closest to 1\n",
    "keep_mean=(mean_ratio[0]-1)**2\n",
    "for i in range(len(sol)):\n",
    "    delta=(mean_ratio[i]-1)**2\n",
    "    if (delta <= keep_mean):\n",
    "        keep_mean=delta\n",
    "        index_m=mean_ratio.index(mean_ratio[i])\n",
    "\n",
    "print(index_m)\n",
    "print(mean_ratio[index_m])\n",
    "print(std_ratio[index_m])\n",
    "print(sol[index_m].x)"
   ]
  },
  {
   "cell_type": "code",
   "execution_count": 21,
   "metadata": {},
   "outputs": [
    {
     "name": "stdout",
     "output_type": "stream",
     "text": [
      "2.2706641020415486\n",
      "4.411951318510545\n"
     ]
    }
   ],
   "source": [
    "#Equilibrium constants with mean closest to 1\n",
    "K1=10**(-pH[0])*sol[index_m].x[1]/sol[index_m].x[0]\n",
    "K2=10**(-pH[0])*sol[index_m].x[2]/sol[index_m].x[1]\n",
    "pKa1=-math.log10(K1)\n",
    "pKa2=-math.log10(K2)\n",
    "print(pKa1)\n",
    "print(pKa2)"
   ]
  }
 ],
 "metadata": {
  "kernelspec": {
   "display_name": "Python 3",
   "language": "python",
   "name": "python3"
  },
  "language_info": {
   "codemirror_mode": {
    "name": "ipython",
    "version": 3
   },
   "file_extension": ".py",
   "mimetype": "text/x-python",
   "name": "python",
   "nbconvert_exporter": "python",
   "pygments_lexer": "ipython3",
   "version": "3.8.5"
  },
  "toc": {
   "base_numbering": 1,
   "nav_menu": {},
   "number_sections": true,
   "sideBar": true,
   "skip_h1_title": false,
   "title_cell": "Table of Contents",
   "title_sidebar": "Contents",
   "toc_cell": false,
   "toc_position": {},
   "toc_section_display": true,
   "toc_window_display": false
  }
 },
 "nbformat": 4,
 "nbformat_minor": 4
}
